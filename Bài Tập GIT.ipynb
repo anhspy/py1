{
 "cells": [
  {
   "cell_type": "code",
   "execution_count": 1,
   "id": "f91f3c86",
   "metadata": {},
   "outputs": [
    {
     "name": "stdout",
     "output_type": "stream",
     "text": [
      "\"Họ Và Tên : Huỳnh Tuấn Anh\"\n"
     ]
    }
   ],
   "source": [
    "#CodeGymOnline\n",
    "print('\"Họ Và Tên : Huỳnh Tuấn Anh\"')"
   ]
  },
  {
   "cell_type": "code",
   "execution_count": 2,
   "id": "9d6dd44d",
   "metadata": {},
   "outputs": [
    {
     "name": "stdout",
     "output_type": "stream",
     "text": [
      "\"Ngày Tháng Năm Sinh : 12/10/1984\"\n"
     ]
    }
   ],
   "source": [
    "print('\"Ngày Tháng Năm Sinh : 12/10/1984\"')"
   ]
  },
  {
   "cell_type": "code",
   "execution_count": null,
   "id": "5f08405e",
   "metadata": {},
   "outputs": [],
   "source": []
  }
 ],
 "metadata": {
  "kernelspec": {
   "display_name": "Python 3 (ipykernel)",
   "language": "python",
   "name": "python3"
  },
  "language_info": {
   "codemirror_mode": {
    "name": "ipython",
    "version": 3
   },
   "file_extension": ".py",
   "mimetype": "text/x-python",
   "name": "python",
   "nbconvert_exporter": "python",
   "pygments_lexer": "ipython3",
   "version": "3.9.7"
  }
 },
 "nbformat": 4,
 "nbformat_minor": 5
}
